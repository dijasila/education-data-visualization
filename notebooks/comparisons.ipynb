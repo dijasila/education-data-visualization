{
 "cells": [
  {
   "cell_type": "code",
   "execution_count": null,
   "metadata": {},
   "outputs": [],
   "source": [
    "import pandas as pd\n",
    "import seaborn as sns\n",
    "import matplotlib.pyplot as plt\n",
    "\n",
    "# Load the cleaned data\n",
    "df = pd.read_csv('../data/education_data.csv')\n",
    "\n",
    "# Compare Exam Scores by School Type\n",
    "plt.figure(figsize=(10, 6))\n",
    "sns.barplot(x='School_Type', y='Exam_Score', data=df, estimator='mean')\n",
    "plt.title('Average Exam Score by School Type')\n",
    "plt.xlabel('School Type')\n",
    "plt.ylabel('Average Exam Score')\n",
    "plt.show()\n",
    "\n",
    "# Compare Exam Scores by Gender\n",
    "plt.figure(figsize=(10, 6))\n",
    "sns.barplot(x='Gender', y='Exam_Score', data=df, estimator='mean')\n",
    "plt.title('Average Exam Score by Gender')\n",
    "plt.xlabel('Gender')\n",
    "plt.ylabel('Average Exam Score')\n",
    "plt.show()"
   ]
  }
 ],
 "metadata": {
  "language_info": {
   "name": "python"
  }
 },
 "nbformat": 4,
 "nbformat_minor": 2
}
