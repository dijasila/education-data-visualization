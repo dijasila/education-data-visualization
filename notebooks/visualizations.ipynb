{
 "cells": [
  {
   "cell_type": "code",
   "execution_count": null,
   "metadata": {},
   "outputs": [],
   "source": [
    "\n",
    "# Visualizations\n",
    "\n",
    "import pandas as pd\n",
    "import matplotlib.pyplot as plt\n",
    "import seaborn as sns\n",
    "\n",
    "# Load the cleaned data\n",
    "df = pd.read_csv('../data/education_data.csv')\n",
    "\n",
    "# Distribution of Exam Scores\n",
    "plt.figure(figsize=(10, 6))\n",
    "sns.histplot(df['Exam_Score'], bins=20, kde=True)\n",
    "plt.title('Distribution of Exam Scores')\n",
    "plt.xlabel('Exam Score')\n",
    "plt.ylabel('Frequency')\n",
    "plt.show()\n",
    "\n",
    "# Boxplot of Exam Scores vs Parental Involvement\n",
    "plt.figure(figsize=(10, 6))\n",
    "sns.boxplot(x='Parental_Involvement', y='Exam_Score', data=df)\n",
    "plt.title('Exam Score vs Parental Involvement')\n",
    "plt.xlabel('Parental Involvement Level')\n",
    "plt.ylabel('Exam Score')\n",
    "plt.show()"
   ]
  }
 ],
 "metadata": {
  "language_info": {
   "name": "python"
  }
 },
 "nbformat": 4,
 "nbformat_minor": 2
}
